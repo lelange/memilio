{
 "cells": [
  {
   "cell_type": "code",
   "execution_count": 1,
   "id": "1b0a36ea",
   "metadata": {},
   "outputs": [],
   "source": [
    "import epidemiology.secir as secir\n",
    "import numpy as np\n",
    "import pandas as pd\n",
    "import matplotlib.pyplot as plt\n",
    "from datetime import datetime, date"
   ]
  },
  {
   "cell_type": "code",
   "execution_count": 2,
   "id": "c4344e33",
   "metadata": {},
   "outputs": [],
   "source": [
    "#import seaborn as sns\n",
    "#plt.style.use(\"seaborn\")"
   ]
  },
  {
   "cell_type": "code",
   "execution_count": 3,
   "id": "8db6d9b8",
   "metadata": {},
   "outputs": [],
   "source": [
    "from utils_SA import simulate_model"
   ]
  },
  {
   "cell_type": "code",
   "execution_count": 4,
   "id": "d5515690",
   "metadata": {},
   "outputs": [],
   "source": [
    "# openturns libraries\n",
    "\n",
    "from __future__ import print_function\n",
    "import openturns as ot\n",
    "import openturns.viewer as viewer\n",
    "from matplotlib import pylab as plt\n",
    "ot.Log.Show(ot.Log.NONE)"
   ]
  },
  {
   "cell_type": "code",
   "execution_count": 5,
   "id": "fc9645f7",
   "metadata": {},
   "outputs": [],
   "source": [
    "# define static parameters of the model\n",
    "\n",
    "# Define Comartment names\n",
    "compartments = ['Susceptible', 'Exposed', 'Carrier', 'Infected', 'Hospitalized', 'ICU', 'Recovered', 'Dead']\n",
    "# Define age Groups\n",
    "groups = ['0-4', '5-14', '15-34', '35-59', '60-79', '80+']\n",
    "# Define population of age groups\n",
    "populations = [40000, 70000, 190000, 290000, 180000, 60000] \n",
    "\n",
    "days = 100 # number of days to simulate\n",
    "start_day = 1\n",
    "start_month = 1\n",
    "start_year = 2019\n",
    "dt = 0.1\n",
    "num_groups = len(groups)\n",
    "num_compartments = len(compartments)\n",
    "\n",
    "# set contact frequency matrix\n",
    "baseline_contact_matrix0 = \"../../data/contacts/baseline_home.txt\"\n",
    "baseline_contact_matrix1 = \"../../data/contacts/baseline_school_pf_eig.txt\"\n",
    "baseline_contact_matrix2 = \"../../data/contacts/baseline_work.txt\"\n",
    "baseline_contact_matrix3 = \"../../data/contacts/baseline_other.txt\"\n",
    "\n",
    "baseline_contact_matrix = np.loadtxt(baseline_contact_matrix0) \\\n",
    "        + np.loadtxt(baseline_contact_matrix1) \\\n",
    "        + np.loadtxt(baseline_contact_matrix2) + np.loadtxt(baseline_contact_matrix3)\n",
    "\n",
    "minimum_contact_matrix = np.ones((num_groups, num_groups)) * 0"
   ]
  },
  {
   "cell_type": "code",
   "execution_count": 6,
   "id": "a391b775",
   "metadata": {},
   "outputs": [],
   "source": [
    "static_params = {\n",
    "    'num_groups': num_groups, \n",
    "    'num_compartments': num_compartments,\n",
    "    'populations': populations,\n",
    "    'start_day' : (date(start_year, start_month, start_day) - date(start_year, 1, 1)).days,\n",
    "    'baseline_contact_matrix' : baseline_contact_matrix, \n",
    "    'minimum_contact_matrix' : minimum_contact_matrix,\n",
    "    'damping_coeff' : 0.9, \n",
    "    'days' : days,\n",
    "    'dt' : dt,\n",
    "    # which compartment's maximal value should be outputed?\n",
    "    'output_index' : compartments.index(\"Infected\") \n",
    "}\n"
   ]
  },
  {
   "cell_type": "code",
   "execution_count": 7,
   "id": "744e3d37",
   "metadata": {},
   "outputs": [],
   "source": [
    "# define input factors and their distributions\n",
    "\n",
    "input_factor_names = [\"incubation_time\", \n",
    "                 \"infectious_mild_time\", \n",
    "                 \"serial_interval\", \n",
    "                 \"hospitalized_to_home_time\", \n",
    "                 \"home_to_hospitalized_time\",\n",
    "                 \"hospitalized_to_icu_time\", \n",
    "                 \"icu_to_home_time\", \n",
    "                 \"icu_to_death_time\"\n",
    "                ]\n",
    "\n",
    "dimension = len(input_factor_names)\n",
    "\n",
    "coll = [ot.Uniform(4, 6),\n",
    "         ot.Uniform(4, 8),\n",
    "         ot.Uniform(3.5, 5.5),\n",
    "         ot.Normal(9, 4),\n",
    "         ot.Normal(7, 4),\n",
    "         ot.Normal(3, 4),\n",
    "         ot.Normal(9, 4),\n",
    "         ot.Normal(8, 4)]\n"
   ]
  },
  {
   "cell_type": "code",
   "execution_count": 8,
   "id": "89d13fc8",
   "metadata": {},
   "outputs": [
    {
     "name": "stdout",
     "output_type": "stream",
     "text": [
      "Sample size:  10000\n"
     ]
    }
   ],
   "source": [
    "inputDistribution = ot.ComposedDistribution(coll)\n",
    "inputDistribution.setDescription(input_factor_names)\n",
    "\n",
    "size = 1000\n",
    "\n",
    "sie = ot.SobolIndicesExperiment(inputDistribution, size)\n",
    "\n",
    "# generate samples from the input distribution\n",
    "inputDesign = sie.generate()\n",
    "input_names = inputDistribution.getDescription()\n",
    "inputDesign.setDescription(input_names)\n",
    "\n",
    "print(\"Sample size: \", inputDesign.getSize())"
   ]
  },
  {
   "cell_type": "code",
   "execution_count": 9,
   "id": "c5bf155a",
   "metadata": {},
   "outputs": [
    {
     "data": {
      "text/plain": [
       "{'incubation_time': 5.765610447438521,\n",
       " 'infectious_mild_time': 4.604451661380891,\n",
       " 'serial_interval': 4.275532308862244,\n",
       " 'hospitalized_to_home_time': 5.146420070929398,\n",
       " 'home_to_hospitalized_time': 11.361762176518251,\n",
       " 'hospitalized_to_icu_time': 3.1780337507754624,\n",
       " 'icu_to_home_time': 10.527974046497274,\n",
       " 'icu_to_death_time': 3.8065736271209483,\n",
       " 'num_groups': 6,\n",
       " 'num_compartments': 8,\n",
       " 'populations': [40000, 70000, 190000, 290000, 180000, 60000],\n",
       " 'start_day': 0,\n",
       " 'baseline_contact_matrix': array([[3.9547, 1.1002, 2.9472, 2.05  , 0.3733, 0.0445],\n",
       "        [0.3327, 3.5892, 1.236 , 1.9208, 0.2681, 0.0161],\n",
       "        [0.246 , 0.7124, 5.6518, 3.2939, 0.2043, 0.0109],\n",
       "        [0.1742, 0.8897, 3.3124, 4.5406, 0.4262, 0.0214],\n",
       "        [0.0458, 0.1939, 0.5782, 1.3825, 1.473 , 0.0704],\n",
       "        [0.1083, 0.1448, 0.4728, 0.9767, 0.6266, 0.1724]]),\n",
       " 'minimum_contact_matrix': array([[0., 0., 0., 0., 0., 0.],\n",
       "        [0., 0., 0., 0., 0., 0.],\n",
       "        [0., 0., 0., 0., 0., 0.],\n",
       "        [0., 0., 0., 0., 0., 0.],\n",
       "        [0., 0., 0., 0., 0., 0.],\n",
       "        [0., 0., 0., 0., 0., 0.]]),\n",
       " 'damping_coeff': 0.9,\n",
       " 'days': 100,\n",
       " 'dt': 0.1,\n",
       " 'output_index': 3}"
      ]
     },
     "execution_count": 9,
     "metadata": {},
     "output_type": "execute_result"
    }
   ],
   "source": [
    "i = 1\n",
    "sampled_params = dict(zip(input_factor_names, inputDesign[i]))\n",
    "params = {**sampled_params, **static_params}\n",
    "params"
   ]
  },
  {
   "cell_type": "code",
   "execution_count": 11,
   "id": "649cca60",
   "metadata": {},
   "outputs": [
    {
     "name": "stdout",
     "output_type": "stream",
     "text": [
      "102723.41005083271\n"
     ]
    }
   ],
   "source": [
    "Y = simulate_model(params)\n",
    "print(Y)"
   ]
  },
  {
   "cell_type": "code",
   "execution_count": 12,
   "id": "a0a09e98",
   "metadata": {},
   "outputs": [],
   "source": [
    "output = []\n",
    "for i in range(inputDesign.getSize()):\n",
    "    sampled_params = dict(zip(input_factor_names, inputDesign[i]))\n",
    "    Y = simulate_model({**sampled_params, **static_params})\n",
    "    output.append([Y])\n",
    "#print(output)\n",
    "outputDesign = ot.Sample(output)"
   ]
  },
  {
   "cell_type": "code",
   "execution_count": 13,
   "id": "4642b626",
   "metadata": {},
   "outputs": [],
   "source": [
    "sensitivityAnalysis = ot.SaltelliSensitivityAlgorithm(inputDesign, outputDesign, size)"
   ]
  },
  {
   "cell_type": "code",
   "execution_count": 14,
   "id": "0288f45b",
   "metadata": {},
   "outputs": [
    {
     "name": "stdout",
     "output_type": "stream",
     "text": [
      "Output # 0\n",
      "    First order indices:  [0.150296,0.298543,0.0199348,0.0152312,0.537038,0.0152728,0.015266,0.0152681]\n",
      "    Total order indices:  [0.114418,0.329917,0.0062278,-1.20765e-06,0.54032,5.13112e-06,4.84183e-06,2.08463e-05]\n",
      "Agg. first order indices:  [0.150296,0.298543,0.0199348,0.0152312,0.537038,0.0152728,0.015266,0.0152681]\n",
      "Agg. total order indices:  [0.114418,0.329917,0.0062278,-1.20765e-06,0.54032,5.13112e-06,4.84183e-06,2.08463e-05]\n"
     ]
    }
   ],
   "source": [
    "output_dimension = 1\n",
    "for i in range(output_dimension):\n",
    "    print(\"Output #\", i)\n",
    "    first_order = sensitivityAnalysis.getFirstOrderIndices(i)\n",
    "    total_order = sensitivityAnalysis.getTotalOrderIndices(i)\n",
    "    print(\"    First order indices: \", first_order)\n",
    "    print(\"    Total order indices: \", total_order)\n",
    "\n",
    "agg_first_order = sensitivityAnalysis.getAggregatedFirstOrderIndices()\n",
    "agg_total_order = sensitivityAnalysis.getAggregatedTotalOrderIndices()\n",
    "print(\"Agg. first order indices: \", agg_first_order)\n",
    "print(\"Agg. total order indices: \", agg_total_order)"
   ]
  },
  {
   "cell_type": "code",
   "execution_count": 15,
   "id": "f1960b8e",
   "metadata": {},
   "outputs": [
    {
     "data": {
      "image/png": "[encoded data removed]",
      "text/plain": [
       "<Figure size 1490x490 with 1 Axes>"
      ]
     },
     "metadata": {
      "needs_background": "light"
     },
     "output_type": "display_data"
    }
   ],
   "source": [
    "graph = sensitivityAnalysis.draw()\n",
    "view = viewer.View(graph, (1500, 500))"
   ]
  },
  {
   "cell_type": "code",
   "execution_count": 13,
   "id": "796129d0",
   "metadata": {},
   "outputs": [],
   "source": [
    "# num_groups\n",
    "# num_compartments\n",
    "# start_date = (date(start_year, start_month, start_day) - date(start_year, 1, 1)).days\n",
    "# baseline_contact_matrix = baseline_contact_matrix, \n",
    "# minimum_contact_matrix = minimum_contact_matrix\n",
    "# damping_coeff\n",
    "# damping_time\n",
    "# damping_level\n",
    "# daming_type\n",
    "# days\n",
    "# dt\n",
    "# output_index = compartments.index(\"Infected\") -> hard coded"
   ]
  },
  {
   "cell_type": "code",
   "execution_count": null,
   "id": "927827c0",
   "metadata": {},
   "outputs": [],
   "source": []
  }
 ],
 "metadata": {
  "kernelspec": {
   "display_name": "Python 3",
   "language": "python",
   "name": "python3"
  },
  "language_info": {
   "codemirror_mode": {
    "name": "ipython",
    "version": 3
   },
   "file_extension": ".py",
   "mimetype": "text/x-python",
   "name": "python",
   "nbconvert_exporter": "python",
   "pygments_lexer": "ipython3",
   "version": "3.6.9"
  }
 },
 "nbformat": 4,
 "nbformat_minor": 5
}
