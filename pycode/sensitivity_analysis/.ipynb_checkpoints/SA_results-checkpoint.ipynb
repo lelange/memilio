{
 "cells": [
  {
   "cell_type": "code",
   "execution_count": 1,
   "id": "1b0a36ea",
   "metadata": {},
   "outputs": [],
   "source": [
    "import epidemiology.secir as secir\n",
    "import numpy as np\n",
    "import pandas as pd\n",
    "import matplotlib.pyplot as plt\n",
    "from datetime import datetime, date"
   ]
  },
  {
   "cell_type": "code",
   "execution_count": 2,
   "id": "647d985d",
   "metadata": {},
   "outputs": [],
   "source": [
    "#import seaborn as sns\n",
    "#plt.style.use(\"seaborn\")"
   ]
  },
  {
   "cell_type": "code",
   "execution_count": 3,
   "id": "2a2cb296",
   "metadata": {},
   "outputs": [],
   "source": [
    "from utils_SA import simulate_model"
   ]
  },
  {
   "cell_type": "code",
   "execution_count": 4,
   "id": "d5515690",
   "metadata": {},
   "outputs": [],
   "source": [
    "# openturns libraries\n",
    "\n",
    "from __future__ import print_function\n",
    "import openturns as ot\n",
    "import openturns.viewer as viewer\n",
    "from matplotlib import pylab as plt\n",
    "ot.Log.Show(ot.Log.NONE)"
   ]
  },
  {
   "cell_type": "code",
   "execution_count": 5,
   "id": "f19b5897",
   "metadata": {},
   "outputs": [],
   "source": [
    "# define static parameters of the model\n",
    "\n",
    "# Define Comartment names\n",
    "compartments = ['Susceptible', 'Exposed', 'Carrier', 'Infected', 'Hospitalized', 'ICU', 'Recovered', 'Dead']\n",
    "# Define age Groups\n",
    "groups = ['0-4', '5-14', '15-34', '35-59', '60-79', '80+']\n",
    "# Define population of age groups\n",
    "populations = [40000, 70000, 190000, 290000, 180000, 60000] \n",
    "\n",
    "days = 100 # number of days to simulate\n",
    "start_day = 1\n",
    "start_month = 1\n",
    "start_year = 2019\n",
    "dt = 0.1\n",
    "num_groups = len(groups)\n",
    "num_compartments = len(compartments)\n",
    "\n",
    "# set contact frequency matrix\n",
    "baseline_contact_matrix0 = \"../../data/contacts/baseline_home.txt\"\n",
    "baseline_contact_matrix1 = \"../../data/contacts/baseline_school_pf_eig.txt\"\n",
    "baseline_contact_matrix2 = \"../../data/contacts/baseline_work.txt\"\n",
    "baseline_contact_matrix3 = \"../../data/contacts/baseline_other.txt\"\n",
    "\n",
    "baseline_contact_matrix = np.loadtxt(baseline_contact_matrix0) \\\n",
    "        + np.loadtxt(baseline_contact_matrix1) \\\n",
    "        + np.loadtxt(baseline_contact_matrix2) + np.loadtxt(baseline_contact_matrix3)\n",
    "\n",
    "minimum_contact_matrix = np.ones((num_groups, num_groups)) * 0"
   ]
  },
  {
   "cell_type": "code",
   "execution_count": 6,
   "id": "d11078d6",
   "metadata": {},
   "outputs": [],
   "source": [
    "static_params = {\n",
    "    'num_groups': num_groups, \n",
    "    'num_compartments': num_compartments,\n",
    "    'populations': populations,\n",
    "    'start_day' : (date(start_year, start_month, start_day) - date(start_year, 1, 1)).days,\n",
    "    'baseline_contact_matrix' : baseline_contact_matrix, \n",
    "    'minimum_contact_matrix' : minimum_contact_matrix,\n",
    "    'damping_coeff' : 0.9, \n",
    "    'days' : days,\n",
    "    'dt' : dt,\n",
    "    # which compartment's maximal value should be outputed?\n",
    "    'output_index' : compartments.index(\"Infected\") \n",
    "}\n"
   ]
  },
  {
   "cell_type": "code",
   "execution_count": 7,
   "id": "744e3d37",
   "metadata": {},
   "outputs": [],
   "source": [
    "# define input factors and their distributions\n",
    "\n",
    "input_factor_names = [\"incubation_time\", \n",
    "                 \"infectious_mild_time\", \n",
    "                 \"serial_interval\", \n",
    "                 \"hospitalized_to_home_time\", \n",
    "                 \"home_to_hospitalized_time\",\n",
    "                 \"hospitalized_to_icu_time\", \n",
    "                 \"icu_to_home_time\", \n",
    "                 \"icu_to_death_time\"\n",
    "                ]\n",
    "\n",
    "dimension = len(input_factor_names)\n",
    "\n",
    "coll = [ot.Uniform(4, 6),\n",
    "         ot.Uniform(4, 8),\n",
    "         ot.Uniform(3.5, 5.5),\n",
    "         ot.Normal(9, 4),\n",
    "         ot.Normal(7, 4),\n",
    "         ot.Normal(3, 4),\n",
    "         ot.Normal(9, 4),\n",
    "         ot.Normal(8, 4)]\n"
   ]
  },
  {
   "cell_type": "code",
   "execution_count": 8,
   "id": "a62410b3",
   "metadata": {},
   "outputs": [
    {
     "name": "stdout",
     "output_type": "stream",
     "text": [
      "Sample size:  10000\n"
     ]
    }
   ],
   "source": [
    "inputDistribution = ot.ComposedDistribution(coll)\n",
    "inputDistribution.setDescription(input_factor_names)\n",
    "\n",
    "size = 1000\n",
    "\n",
    "sie = ot.SobolIndicesExperiment(inputDistribution, size)\n",
    "\n",
    "# generate samples from the input distribution\n",
    "inputDesign = sie.generate()\n",
    "input_names = inputDistribution.getDescription()\n",
    "inputDesign.setDescription(input_names)\n",
    "\n",
    "print(\"Sample size: \", inputDesign.getSize())"
   ]
  },
  {
   "cell_type": "code",
   "execution_count": 9,
   "id": "97fd96a8",
   "metadata": {},
   "outputs": [
    {
     "data": {
      "text/plain": [
       "{'incubation_time': 5.765610447438521,\n",
       " 'infectious_mild_time': 4.604451661380891,\n",
       " 'serial_interval': 4.275532308862244,\n",
       " 'hospitalized_to_home_time': 5.146420070929398,\n",
       " 'home_to_hospitalized_time': 11.361762176518251,\n",
       " 'hospitalized_to_icu_time': 3.1780337507754624,\n",
       " 'icu_to_home_time': 10.527974046497274,\n",
       " 'icu_to_death_time': 3.8065736271209483,\n",
       " 'num_groups': 6,\n",
       " 'num_compartments': 8,\n",
       " 'populations': [40000, 70000, 190000, 290000, 180000, 60000],\n",
       " 'start_day': 0,\n",
       " 'baseline_contact_matrix': array([[3.9547, 1.1002, 2.9472, 2.05  , 0.3733, 0.0445],\n",
       "        [0.3327, 3.5892, 1.236 , 1.9208, 0.2681, 0.0161],\n",
       "        [0.246 , 0.7124, 5.6518, 3.2939, 0.2043, 0.0109],\n",
       "        [0.1742, 0.8897, 3.3124, 4.5406, 0.4262, 0.0214],\n",
       "        [0.0458, 0.1939, 0.5782, 1.3825, 1.473 , 0.0704],\n",
       "        [0.1083, 0.1448, 0.4728, 0.9767, 0.6266, 0.1724]]),\n",
       " 'minimum_contact_matrix': array([[0., 0., 0., 0., 0., 0.],\n",
       "        [0., 0., 0., 0., 0., 0.],\n",
       "        [0., 0., 0., 0., 0., 0.],\n",
       "        [0., 0., 0., 0., 0., 0.],\n",
       "        [0., 0., 0., 0., 0., 0.],\n",
       "        [0., 0., 0., 0., 0., 0.]]),\n",
       " 'damping_coeff': 0.9,\n",
       " 'days': 100,\n",
       " 'dt': 0.1,\n",
       " 'output_index': 3}"
      ]
     },
     "execution_count": 9,
     "metadata": {},
     "output_type": "execute_result"
    }
   ],
   "source": [
    "i = 1\n",
    "sampled_params = dict(zip(input_factor_names, inputDesign[i]))\n",
    "params = {**sampled_params, **static_params}\n",
    "params"
   ]
  },
  {
   "cell_type": "code",
   "execution_count": 11,
   "id": "c30069ed",
   "metadata": {},
   "outputs": [
    {
     "name": "stdout",
     "output_type": "stream",
     "text": [
      "102723.41005083271\n"
     ]
    }
   ],
   "source": [
    "Y = simulate_model(params)\n",
    "print(Y)"
   ]
  },
  {
   "cell_type": "code",
   "execution_count": 12,
   "id": "c5678ecb",
   "metadata": {},
   "outputs": [
    {
     "ename": "TypeError",
     "evalue": "Indexing list expects int type",
     "output_type": "error",
     "traceback": [
      "\u001b[0;31m---------------------------------------------------------------------------\u001b[0m",
      "\u001b[0;31mTypeError\u001b[0m                                 Traceback (most recent call last)",
      "\u001b[0;32m<ipython-input-12-953493b9232a>\u001b[0m in \u001b[0;36m<module>\u001b[0;34m\u001b[0m\n\u001b[1;32m      1\u001b[0m \u001b[0moutput\u001b[0m \u001b[0;34m=\u001b[0m \u001b[0;34m[\u001b[0m\u001b[0;34m]\u001b[0m\u001b[0;34m\u001b[0m\u001b[0;34m\u001b[0m\u001b[0m\n\u001b[1;32m      2\u001b[0m \u001b[0;32mfor\u001b[0m \u001b[0mi\u001b[0m \u001b[0;32min\u001b[0m \u001b[0mrange\u001b[0m\u001b[0;34m(\u001b[0m\u001b[0minputDesign\u001b[0m\u001b[0;34m.\u001b[0m\u001b[0mgetSize\u001b[0m\u001b[0;34m(\u001b[0m\u001b[0;34m)\u001b[0m\u001b[0;34m)\u001b[0m\u001b[0;34m:\u001b[0m\u001b[0;34m\u001b[0m\u001b[0;34m\u001b[0m\u001b[0m\n\u001b[0;32m----> 3\u001b[0;31m     \u001b[0mY\u001b[0m \u001b[0;34m=\u001b[0m \u001b[0msimulate_model\u001b[0m\u001b[0;34m(\u001b[0m\u001b[0minputDesign\u001b[0m\u001b[0;34m[\u001b[0m\u001b[0mi\u001b[0m\u001b[0;34m]\u001b[0m\u001b[0;34m)\u001b[0m\u001b[0;34m\u001b[0m\u001b[0;34m\u001b[0m\u001b[0m\n\u001b[0m\u001b[1;32m      4\u001b[0m     \u001b[0moutput\u001b[0m\u001b[0;34m.\u001b[0m\u001b[0mappend\u001b[0m\u001b[0;34m(\u001b[0m\u001b[0;34m[\u001b[0m\u001b[0mY\u001b[0m\u001b[0;34m]\u001b[0m\u001b[0;34m)\u001b[0m\u001b[0;34m\u001b[0m\u001b[0;34m\u001b[0m\u001b[0m\n\u001b[1;32m      5\u001b[0m \u001b[0;31m#print(output)\u001b[0m\u001b[0;34m\u001b[0m\u001b[0;34m\u001b[0m\u001b[0;34m\u001b[0m\u001b[0m\n",
      "\u001b[0;32m/localdata1/lang_a4/lelange/memilio/pycode/sensitivity_analysis/utils_SA.py\u001b[0m in \u001b[0;36msimulate_model\u001b[0;34m(params)\u001b[0m\n\u001b[1;32m     27\u001b[0m     '''\n\u001b[1;32m     28\u001b[0m     \u001b[0;31m# Initialize Parameters\u001b[0m\u001b[0;34m\u001b[0m\u001b[0;34m\u001b[0m\u001b[0;34m\u001b[0m\u001b[0m\n\u001b[0;32m---> 29\u001b[0;31m     \u001b[0mmodel\u001b[0m \u001b[0;34m=\u001b[0m \u001b[0mSecirModel\u001b[0m\u001b[0;34m(\u001b[0m\u001b[0mparams\u001b[0m\u001b[0;34m[\u001b[0m\u001b[0;34m\"num_groups\"\u001b[0m\u001b[0;34m]\u001b[0m\u001b[0;34m)\u001b[0m\u001b[0;34m\u001b[0m\u001b[0;34m\u001b[0m\u001b[0m\n\u001b[0m\u001b[1;32m     30\u001b[0m \u001b[0;34m\u001b[0m\u001b[0m\n\u001b[1;32m     31\u001b[0m     \u001b[0;31m# Set parameters\u001b[0m\u001b[0;34m\u001b[0m\u001b[0;34m\u001b[0m\u001b[0;34m\u001b[0m\u001b[0m\n",
      "\u001b[0;32m/localdata1/lang_a4/lelange/memilio/env/lib/python3.6/site-packages/openturns/typ.py\u001b[0m in \u001b[0;36m__getitem__\u001b[0;34m(self, arg)\u001b[0m\n\u001b[1;32m   2098\u001b[0m \u001b[0;34m\u001b[0m\u001b[0m\n\u001b[1;32m   2099\u001b[0m     \u001b[0;32mdef\u001b[0m \u001b[0m__getitem__\u001b[0m\u001b[0;34m(\u001b[0m\u001b[0mself\u001b[0m\u001b[0;34m,\u001b[0m \u001b[0marg\u001b[0m\u001b[0;34m)\u001b[0m\u001b[0;34m:\u001b[0m\u001b[0;34m\u001b[0m\u001b[0;34m\u001b[0m\u001b[0m\n\u001b[0;32m-> 2100\u001b[0;31m         \u001b[0;32mreturn\u001b[0m \u001b[0m_typ\u001b[0m\u001b[0;34m.\u001b[0m\u001b[0mPoint___getitem__\u001b[0m\u001b[0;34m(\u001b[0m\u001b[0mself\u001b[0m\u001b[0;34m,\u001b[0m \u001b[0marg\u001b[0m\u001b[0;34m)\u001b[0m\u001b[0;34m\u001b[0m\u001b[0;34m\u001b[0m\u001b[0m\n\u001b[0m\u001b[1;32m   2101\u001b[0m \u001b[0;34m\u001b[0m\u001b[0m\n\u001b[1;32m   2102\u001b[0m     \u001b[0;32mdef\u001b[0m \u001b[0m__eq__\u001b[0m\u001b[0;34m(\u001b[0m\u001b[0mself\u001b[0m\u001b[0;34m,\u001b[0m \u001b[0mother\u001b[0m\u001b[0;34m)\u001b[0m\u001b[0;34m:\u001b[0m\u001b[0;34m\u001b[0m\u001b[0;34m\u001b[0m\u001b[0m\n",
      "\u001b[0;31mTypeError\u001b[0m: Indexing list expects int type"
     ]
    }
   ],
   "source": [
    "output = []\n",
    "for i in range(inputDesign.getSize()):\n",
    "    sampled_params = dict(zip(input_factor_names, inputDesign[i]))\n",
    "    Y = simulate_model({**sampled_params, **static_params})\n",
    "    output.append([Y])\n",
    "#print(output)\n",
    "outputDesign = ot.Sample(output)"
   ]
  },
  {
   "cell_type": "code",
   "execution_count": 13,
   "id": "e5cfe96a",
   "metadata": {},
   "outputs": [],
   "source": [
    "# num_groups\n",
    "# num_compartments\n",
    "# start_date = (date(start_year, start_month, start_day) - date(start_year, 1, 1)).days\n",
    "# baseline_contact_matrix = baseline_contact_matrix, \n",
    "# minimum_contact_matrix = minimum_contact_matrix\n",
    "# damping_coeff\n",
    "# damping_time\n",
    "# damping_level\n",
    "# daming_type\n",
    "# days\n",
    "# dt\n",
    "# output_index = compartments.index(\"Infected\") -> hard coded"
   ]
  },
  {
   "cell_type": "code",
   "execution_count": null,
   "id": "b5bfb79e",
   "metadata": {},
   "outputs": [],
   "source": []
  }
 ],
 "metadata": {
  "kernelspec": {
   "display_name": "Python 3",
   "language": "python",
   "name": "python3"
  },
  "language_info": {
   "codemirror_mode": {
    "name": "ipython",
    "version": 3
   },
   "file_extension": ".py",
   "mimetype": "text/x-python",
   "name": "python",
   "nbconvert_exporter": "python",
   "pygments_lexer": "ipython3",
   "version": "3.6.9"
  }
 },
 "nbformat": 4,
 "nbformat_minor": 5
}
