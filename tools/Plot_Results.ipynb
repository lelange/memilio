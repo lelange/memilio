{
 "cells": [
  {
   "cell_type": "code",
   "execution_count": null,
   "metadata": {},
   "outputs": [],
   "source": [
    "import pandas as pd\n",
    "import numpy as np\n",
    "import h5py\n",
    "import os\n",
    "import datetime\n",
    "import matplotlib.pyplot as plt\n",
    "from matplotlib import ticker\n",
    "plt.rcParams['figure.facecolor'] = 'w'\n",
    "plt.rcParams['axes.facecolor'] = 'w'"
   ]
  },
  {
   "cell_type": "markdown",
   "metadata": {},
   "source": [
    "### Simulation parameters "
   ]
  },
  {
   "cell_type": "code",
   "execution_count": null,
   "metadata": {},
   "outputs": [],
   "source": [
    "year, month, day = '2020', '10', '1'\n",
    "start_date = pd.Timestamp(year + '.' + month.zfill(2) + '.' + day.zfill(2))\n",
    "tmax = '180'\n",
    "daysPlot = 180\n",
    "\n",
    "#define scenarios\n",
    "strings = ['']\n",
    "\n",
    "#define compartments\n",
    "secir_dict = {0:'Susceptible', 1:'Exposed',2:'Carrier', 3:'Infected', 4:'Hospitalized',\n",
    "              5:'ICU', 6:'Recovered', 7:'Death'}\n",
    "\n",
    "#define age groups\n",
    "age_groups = ['0-4 Years', '5-14 Years', '15-34 Years', '35-59 Years', '60-79 Years', '80+ Years']"
   ]
  },
  {
   "cell_type": "markdown",
   "metadata": {},
   "source": [
    "### Plot parameters"
   ]
  },
  {
   "cell_type": "code",
   "execution_count": null,
   "metadata": {},
   "outputs": [],
   "source": [
    "# define colors for age groups\n",
    "plt_colors = plt.rcParams['axes.prop_cycle'].by_key()['color']\n",
    "colors = {}\n",
    "colors['Total'] = plt_colors[0]\n",
    "for i in range(len(age_groups)):\n",
    "    colors['Group' + str(i+1)] = plt_colors[i+1]\n",
    "    \n"
   ]
  },
  {
   "cell_type": "code",
   "execution_count": null,
   "metadata": {},
   "outputs": [],
   "source": [
    "# define population data for incidence values\n",
    "base = 100000\n",
    "age_group_sizes = np.array([3961376,7429883,19117865,28919134,18057318,5681135])\n",
    "\n",
    "relative_dict = {}\n",
    "for i in range(len(age_group_sizes)):\n",
    "    relative_dict[age_groups[i]] = age_group_sizes[i]/base\n",
    "    \n",
    "relative_dict['Total'] = np.sum(age_group_sizes)/base\n",
    "\n",
    "    "
   ]
  },
  {
   "cell_type": "code",
   "execution_count": null,
   "metadata": {},
   "outputs": [],
   "source": [
    "plotRKI = True           # Plots RKI Data if true\n",
    "plotRelative = False     # Plots incidence values if true\n",
    "plotPercentiles = False  # Plots 25 and 75 percentiles if true\n",
    "plotConfidence = False   # Plots 05 and 95 percentiles if true"
   ]
  },
  {
   "cell_type": "code",
   "execution_count": null,
   "metadata": {},
   "outputs": [],
   "source": [
    "savePlot = True          # saves plot file if true\n",
    "if savePlot:\n",
    "    try:\n",
    "        os.mkdir('Plots')\n",
    "    except:\n",
    "        print('Directory \"Plots\" already exists')"
   ]
  },
  {
   "cell_type": "code",
   "execution_count": null,
   "metadata": {},
   "outputs": [],
   "source": [
    "\n",
    "\n",
    "opacity = 0.15           \n",
    "lineWidth = 3.5\n",
    "fontsize = 18\n",
    "figsize = (16, 10)\n",
    "\n",
    "#define x-ticks for plots\n",
    "datelist = np.array(pd.date_range(start_date.date(), periods=daysPlot, freq='D').strftime('%m-%d').tolist())\n",
    "tick_range = (np.arange(int(daysPlot / 10) + 1) * 10)\n",
    "tick_range[-1] -= 1"
   ]
  },
  {
   "cell_type": "markdown",
   "metadata": {},
   "source": [
    "# Plot Results"
   ]
  },
  {
   "cell_type": "code",
   "execution_count": null,
   "metadata": {},
   "outputs": [],
   "source": [
    "def plot_results(files, comp_idx, title, key='Total'):\n",
    "    fig, ax = plt.subplots(figsize=figsize)\n",
    "    \n",
    "    if plotRelative:\n",
    "        factor = relative_dict[key]\n",
    "    else:\n",
    "        factor = 1\n",
    "        \n",
    "    X = np.arange(daysPlot)\n",
    "    \n",
    "    ax.plot(X, files['p50']['0'][key][:, comp_idx]/factor, label='p50',\n",
    "            color=colors[key], linewidth=lineWidth)\n",
    "    if plotPercentiles:    \n",
    "        ax.plot(X, files['p25']['0'][key][:, comp_idx]/factor,'--', label='p25',\n",
    "                color=colors[key], linewidth=lineWidth)\n",
    "        ax.plot(X, files['p75']['0'][key][:, comp_idx]/factor,'--',  label='p75',\n",
    "                color=colors[key], linewidth=lineWidth)\n",
    "        ax.fill_between(X, files['p25']['0'][key][:, comp_idx]/factor,\n",
    "                        files['p75']['0'][key][:, comp_idx]/factor,\n",
    "                        color=colors[key], alpha=opacity) \n",
    "    if plotConfidence:    \n",
    "        ax.plot(X, files['p05']['0'][key][:, comp_idx]/factor,'--', label='p05',\n",
    "                color=colors[key], linewidth=lineWidth)\n",
    "        ax.plot(X, files['p95']['0'][key][:, comp_idx]/factor,'--',  label='p95',\n",
    "                color=colors[key], linewidth=lineWidth)\n",
    "        ax.fill_between(X, files['p05']['0'][key][:, comp_idx]/factor, \n",
    "                        files['p95']['0'][key][:, comp_idx]/factor,\n",
    "                        color=colors[key], alpha=opacity) \n",
    "        \n",
    "    if plotRKI:\n",
    "        ax.plot(X, files['RKI']['0'][key][:, comp_idx]/factor,'--', label='RKI',\n",
    "            color='gray', linewidth=lineWidth)\n",
    "        \n",
    "\n",
    "    ax.set_title(title, fontsize=18)\n",
    "    ax.set_xticks(tick_range)\n",
    "    ax.set_xticklabels(datelist[tick_range], rotation=45, fontsize=fontsize)\n",
    "    if plotRelative:\n",
    "        ax.set_ylabel('individuals relative per 100.000', fontsize=fontsize)\n",
    "    else:\n",
    "        ax.set_ylabel('number of individuals', fontsize=fontsize)\n",
    "    ax.legend(fontsize=fontsize)\n",
    "    plt.yticks(fontsize=fontsize)\n",
    "    ax.grid(linestyle='dotted')\n",
    "    \n",
    "    formatter = ticker.ScalarFormatter(useMathText=True)\n",
    "    formatter.set_scientific(True) \n",
    "    formatter.set_powerlimits((-1,1)) \n",
    "    ax.yaxis.set_major_formatter(formatter) \n",
    "    ax.yaxis.offsetText.set_fontsize(fontsize)\n",
    "    \n",
    "    if savePlot:\n",
    "        fig.savefig('Plots/' + title + '.png')\n"
   ]
  },
  {
   "cell_type": "code",
   "execution_count": null,
   "metadata": {},
   "outputs": [],
   "source": [
    "# load files\n",
    "files = []\n",
    "\n",
    "for i in range(len(strings)):\n",
    "    files.append({})\n",
    "    \n",
    "    path = '../data/results/results_' + year + '_' + month + '_' + day + '_tmax_' + tmax + strings[i]\n",
    "\n",
    "    files[i]['p50'] = h5py.File(path + '/results_p50/Results_sum.h5', 'r+')\n",
    "\n",
    "    files[i]['p25'] = h5py.File(path + '/results_p25/Results_sum.h5', 'r+')\n",
    "    files[i]['p75'] = h5py.File(path + '/results_p75/Results_sum.h5', 'r+')\n",
    "\n",
    "    files[i]['p05'] = h5py.File(path + '/results_p05/Results_sum.h5', 'r+')\n",
    "    files[i]['p95'] = h5py.File(path + '/results_p95/Results_sum.h5', 'r+')\n",
    "        \n",
    "\n",
    "    files[i]['RKI'] = h5py.File(path + '/Results_rki_sum.h5', 'r+')\n",
    "        "
   ]
  },
  {
   "cell_type": "markdown",
   "metadata": {},
   "source": [
    "### Plot total population "
   ]
  },
  {
   "cell_type": "code",
   "execution_count": null,
   "metadata": {
    "scrolled": true
   },
   "outputs": [],
   "source": [
    "for scenario in range(len(strings)):\n",
    "    for compart in range(len(secir_dict)):\n",
    "        plot_results(files[scenario], compart, secir_dict[compart], key='Total')"
   ]
  },
  {
   "cell_type": "markdown",
   "metadata": {},
   "source": [
    "### Plot group population"
   ]
  },
  {
   "cell_type": "code",
   "execution_count": null,
   "metadata": {},
   "outputs": [],
   "source": [
    "for scenario in range(len(strings)):\n",
    "    for compart in range(len(secir_dict)):\n",
    "        for group in range(len(age_groups)):\n",
    "            plot_results(files[scenario], compart, secir_dict[compart] + ' ' + age_groups[group],\n",
    "                         key='Group' + str(group+1))"
   ]
  }
 ],
 "metadata": {
  "kernelspec": {
   "display_name": "Python 3",
   "language": "python",
   "name": "python3"
  },
  "language_info": {
   "codemirror_mode": {
    "name": "ipython",
    "version": 3
   },
   "file_extension": ".py",
   "mimetype": "text/x-python",
   "name": "python",
   "nbconvert_exporter": "python",
   "pygments_lexer": "ipython3",
   "version": "3.6.9"
  }
 },
 "nbformat": 4,
 "nbformat_minor": 4
}
